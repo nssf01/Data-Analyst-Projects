{
 "cells": [
  {
   "cell_type": "code",
   "execution_count": 7,
   "id": "cd989eeb-f50f-486d-b29b-1201523ad255",
   "metadata": {},
   "outputs": [
    {
     "name": "stdin",
     "output_type": "stream",
     "text": [
      "Enter your name:  Nidhi\n",
      "Enter your weight in pounds:  121\n",
      "Enter your height in inches:  60\n"
     ]
    },
    {
     "name": "stdout",
     "output_type": "stream",
     "text": [
      "23.628611111111113\n",
      "Nidhi, you are normal weight.\n"
     ]
    }
   ],
   "source": [
    "Name = input(\"Enter your name: \")\n",
    "\n",
    "weight = int(input(\"Enter your weight in pounds: \"))\n",
    "\n",
    "height = int(input(\"Enter your height in inches: \"))\n",
    "\n",
    "BMI = (weight * 703) / (height * height)\n",
    "\n",
    "print(BMI)\n",
    "\n",
    "if BMI>0:\n",
    "    if(BMI < 18.5):\n",
    "        print(Name +\", you are underweight.\")\n",
    "    elif (BMI <= 24.9):\n",
    "        print(Name +\", you are normal weight.\")\n",
    "    elif (BMI < 29.9):\n",
    "        print(Name +\", you are overweight.\")\n",
    "    elif (BMI < 34.9):\n",
    "        print(Name +\", you are obese.\")\n",
    "    elif (BMI < 39.9):\n",
    "        print(Name +\", you are severely obese.\")\n",
    "    else:\n",
    "        print(Name +\", you are morbidly obese.\")\n",
    "else:\n",
    "    print(\"Enter valid input\")  \n",
    "\n"
   ]
  },
  {
   "cell_type": "code",
   "execution_count": null,
   "id": "b8ac86ac-d7cd-43fe-9193-8666c64d7634",
   "metadata": {},
   "outputs": [],
   "source": []
  },
  {
   "cell_type": "code",
   "execution_count": null,
   "id": "fce744e4-f5ba-481e-bb45-9eab2165cd3d",
   "metadata": {},
   "outputs": [],
   "source": []
  },
  {
   "cell_type": "code",
   "execution_count": null,
   "id": "169ae66a-bcff-4db3-8a14-6f4f44061e0c",
   "metadata": {},
   "outputs": [],
   "source": [
    "#BMI = (weight in pounds x 703) / (height in inches x height in inches)"
   ]
  },
  {
   "cell_type": "code",
   "execution_count": null,
   "id": "0d20505a-cf89-46bb-a033-bedf2bc02edb",
   "metadata": {},
   "outputs": [],
   "source": [
    "print(weight)"
   ]
  },
  {
   "cell_type": "code",
   "execution_count": null,
   "id": "45ea2328-5b11-45f3-ac5f-89c6e7d8c741",
   "metadata": {},
   "outputs": [],
   "source": [
    "Under 18.5\tUnderweight\tMinimal\n",
    "18.5 - 24.9\tNormal Weight\tMinimal\n",
    "25 - 29.9\tOverweight\tIncreased\n",
    "30 - 34.9\tObese\tHigh\n",
    "35 - 39.9\tSeverely Obese\tVery High\n",
    "40 and over\tMorbidly Obese\tExtremely High"
   ]
  },
  {
   "cell_type": "code",
   "execution_count": null,
   "id": "7ed765e4-8bce-493a-8d88-4f7696bec305",
   "metadata": {},
   "outputs": [],
   "source": []
  },
  {
   "cell_type": "code",
   "execution_count": null,
   "id": "08e3c69c-bc85-4c1c-bee7-d21d80e3e9a5",
   "metadata": {},
   "outputs": [],
   "source": [
    "if BMI>0:\n",
    "    if(BMI<18.5):\n",
    "        print(name +\", you are underwight.\")\n",
    "    elif (BMI<=24.9):\n",
    "        print(name +\", you are normal weight.\")\n",
    "    elif (BMI<29.9):\n",
    "        print(name +\", you are overweight.\")\n",
    "    elif (BMI<34.9):\n",
    "        print(name +\", you are obese.\")\n",
    "    elif (BMI<39.9):\n",
    "        print(name +\", you are severely obese.\")\n",
    "    else:\n",
    "        print(name +\", you are morbidly obese.\")\n",
    "else:\n",
    "    print(\"Enter valid input\")"
   ]
  },
  {
   "cell_type": "code",
   "execution_count": null,
   "id": "75317e88-75b9-4458-b799-fadb0df7273a",
   "metadata": {},
   "outputs": [],
   "source": []
  },
  {
   "cell_type": "code",
   "execution_count": null,
   "id": "7738ad1b-1e5e-40d7-945f-fe20e5aa9401",
   "metadata": {},
   "outputs": [],
   "source": []
  },
  {
   "cell_type": "code",
   "execution_count": null,
   "id": "143fe337-cfc2-4540-8b71-830a617a960d",
   "metadata": {},
   "outputs": [],
   "source": []
  }
 ],
 "metadata": {
  "kernelspec": {
   "display_name": "Python 3 (ipykernel)",
   "language": "python",
   "name": "python3"
  },
  "language_info": {
   "codemirror_mode": {
    "name": "ipython",
    "version": 3
   },
   "file_extension": ".py",
   "mimetype": "text/x-python",
   "name": "python",
   "nbconvert_exporter": "python",
   "pygments_lexer": "ipython3",
   "version": "3.12.4"
  }
 },
 "nbformat": 4,
 "nbformat_minor": 5
}
